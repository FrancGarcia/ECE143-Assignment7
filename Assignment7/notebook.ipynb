{
 "cells": [
  {
   "cell_type": "code",
   "execution_count": 4,
   "metadata": {},
   "outputs": [
    {
     "name": "stdout",
     "output_type": "stream",
     "text": [
      "[[1. 0. 0. 0. 0. 0.]\n",
      " [0. 1. 0. 0. 0. 0.]\n",
      " [0. 0. 1. 0. 0. 0.]\n",
      " [0. 0. 0. 1. 0. 0.]\n",
      " [0. 0. 0. 0. 1. 0.]\n",
      " [0. 0. 0. 0. 0. 1.]]\n"
     ]
    }
   ],
   "source": [
    "import numpy as np\n",
    "x = np.eye(6)\n",
    "print(x)"
   ]
  },
  {
   "cell_type": "code",
   "execution_count": 7,
   "metadata": {},
   "outputs": [
    {
     "data": {
      "text/plain": [
       "<matplotlib.image.AxesImage at 0x2cce5a47680>"
      ]
     },
     "execution_count": 7,
     "metadata": {},
     "output_type": "execute_result"
    },
    {
     "data": {
      "image/png": "[encoded data removed]",
      "text/plain": [
       "<Figure size 640x480 with 1 Axes>"
      ]
     },
     "metadata": {},
     "output_type": "display_data"
    }
   ],
   "source": [
    "from matplotlib.pylab import subplots, cm\n",
    "fig, ax = subplots()\n",
    "ax.imshow(x, cmap=cm.gray_r)"
   ]
  },
  {
   "cell_type": "code",
   "execution_count": 8,
   "metadata": {},
   "outputs": [],
   "source": [
    "import numpy as np\n",
    "import random\n",
    "def gen_rand_slash(m=6,n=6,direction='back'):\n",
    "    \"\"\"\n",
    "    Generates a random slash in a m x n numpy array with at least\n",
    "    two pixels. The slash can be \"back\" or \"forward\" slash.\n",
    "\n",
    "    :param m: Number of rows in the numpy image.\n",
    "    :param n: Number of columns in the numpy image.\n",
    "    :param direction: \"back\" or \"forward\" to determine the direction of the slash generated.\n",
    "    \n",
    "    :return: An m x n numpy array with the randomly generated slash.\n",
    "    \"\"\"\n",
    "    assert(isinstance(m, int) and m > 1), \"The number of columns (i.e. m) must be an int greater than 1 to get uniform slash\"\n",
    "    assert(isinstance(n, int) and n > 1), \"The number of rows (i.e. n) must be an int greater than 1 to get uniform slash\"\n",
    "    assert(isinstance(direction, str) and (direction == \"back\" or direction == \"forward\")), \"The direction must be 'back' or 'forward' only\"\n",
    "    \n",
    "    slash = np.array([[0 for _ in range(n)] for _ in range(m)])\n",
    "    if direction == \"back\":\n",
    "        # Get random starting index of the slash\n",
    "        start_ind_r = random.randint(0,m-2)\n",
    "        start_ind_c = random.randint(0,n-2)\n",
    "        # Get random length of the slash\n",
    "        l = min(m-start_ind_r, n-start_ind_c)\n",
    "        length = random.randint(2, l)\n",
    "        move = 1\n",
    "    elif direction == \"forward\":\n",
    "        # Get random starting index of the slash\n",
    "        start_ind_r = random.randint(1,m-1)\n",
    "        start_ind_c = random.randint(0,n-2)\n",
    "        # Get random length of the slash\n",
    "        l = min(start_ind_r+1,n-start_ind_c)\n",
    "        length = random.randint(2, l)\n",
    "        move = -1\n",
    "    #print(f\"Start row: {start_ind_r}\")\n",
    "    #print(f\"Start col: {start_ind_c}\")\n",
    "    count = 0\n",
    "    while count < length:\n",
    "        #print(f\"Count: {count}\")\n",
    "        #print(f\"Length: {length}\")\n",
    "        #print(f\"Row: {start_ind_r}\")\n",
    "        #print(f\"Columm: {start_ind_c}\")\n",
    "        slash[start_ind_r, start_ind_c] = 1\n",
    "        start_ind_r += move\n",
    "        start_ind_c += 1\n",
    "        count += 1\n",
    "    #print(slash)\n",
    "    return slash\n",
    "#gen_rand_slash(6,6,direction='forward')"
   ]
  },
  {
   "cell_type": "code",
   "execution_count": 18,
   "metadata": {},
   "outputs": [
    {
     "data": {
      "image/png": "[encoded data removed]",
      "text/plain": [
       "<Figure size 640x480 with 9 Axes>"
      ]
     },
     "metadata": {},
     "output_type": "display_data"
    }
   ],
   "source": [
    "fig,axs=subplots(3,3,sharex=True,sharey=True)\n",
    "for ax in axs.flatten():\n",
    "     ax.imshow(gen_rand_slash(direction=\"forward\"),cmap=cm.gray_r)"
   ]
  }
 ],
 "metadata": {
  "kernelspec": {
   "display_name": "Python 3",
   "language": "python",
   "name": "python3"
  },
  "language_info": {
   "codemirror_mode": {
    "name": "ipython",
    "version": 3
   },
   "file_extension": ".py",
   "mimetype": "text/x-python",
   "name": "python",
   "nbconvert_exporter": "python",
   "pygments_lexer": "ipython3",
   "version": "3.12.2"
  }
 },
 "nbformat": 4,
 "nbformat_minor": 2
}
